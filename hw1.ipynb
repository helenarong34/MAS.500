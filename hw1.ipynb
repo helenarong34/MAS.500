{
 "cells": [
  {
   "cell_type": "markdown",
   "metadata": {},
   "source": [
    "# HW 1\n",
    "**Author: Yangyang Yang**"
   ]
  },
  {
   "cell_type": "code",
   "execution_count": 13,
   "metadata": {
    "collapsed": true
   },
   "outputs": [],
   "source": [
    "import mediacloud, datetime"
   ]
  },
  {
   "cell_type": "code",
   "execution_count": 14,
   "metadata": {},
   "outputs": [
    {
     "name": "stdout",
     "output_type": "stream",
     "text": [
      "Trump count: 197782\n",
      "Clinton count: 133192\n"
     ]
    }
   ],
   "source": [
    "mc = mediacloud.api.MediaCloud('4923e5782ddbc72d23d4a57cfcf2176efbaef3b18677b4ae7eb7581e8356e924')\n",
    "trump_count = mc.sentenceCount('( Trump )', solr_filter=[mc.publish_date_query( datetime.date( 2016, 9, 1), datetime.date( 2016, 9, 30) ), 'tags_id_media:1' ])\n",
    "print(\"Trump count:\", trump_count['count']) # prints the number of sentences found\n",
    "clinton_count = mc.sentenceCount('( Clinton )', solr_filter=[mc.publish_date_query( datetime.date( 2016, 9, 1), datetime.date( 2016, 9, 30) ), 'tags_id_media:1' ])\n",
    "print(\"Clinton count:\", clinton_count['count']) # prints the number of sentences found"
   ]
  },
  {
   "cell_type": "markdown",
   "metadata": {},
   "source": [
    "US Mainstream Media sources talk about Trump more than Clinton in September 2016."
   ]
  },
  {
   "cell_type": "code",
   "execution_count": null,
   "metadata": {
    "collapsed": true
   },
   "outputs": [],
   "source": []
  }
 ],
 "metadata": {
  "kernelspec": {
   "display_name": "Python 3",
   "language": "python",
   "name": "python3"
  },
  "language_info": {
   "codemirror_mode": {
    "name": "ipython",
    "version": 3
   },
   "file_extension": ".py",
   "mimetype": "text/x-python",
   "name": "python",
   "nbconvert_exporter": "python",
   "pygments_lexer": "ipython3",
   "version": "3.6.1"
  }
 },
 "nbformat": 4,
 "nbformat_minor": 2
}
